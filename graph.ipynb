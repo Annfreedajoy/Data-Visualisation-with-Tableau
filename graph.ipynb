{
  "nbformat": 4,
  "nbformat_minor": 0,
  "metadata": {
    "colab": {
      "name": "Untitled4.ipynb",
      "provenance": [],
      "authorship_tag": "ABX9TyMKWVgXZa7MinVjBld2rf9P",
      "include_colab_link": true
    },
    "kernelspec": {
      "name": "python3",
      "display_name": "Python 3"
    },
    "language_info": {
      "name": "python"
    }
  },
  "cells": [
    {
      "cell_type": "markdown",
      "metadata": {
        "id": "view-in-github",
        "colab_type": "text"
      },
      "source": [
        "<a href=\"https://colab.research.google.com/github/Annfreedajoy/Data-Visualisation-with-Tableau/blob/main/graph.ipynb\" target=\"_parent\"><img src=\"https://colab.research.google.com/assets/colab-badge.svg\" alt=\"Open In Colab\"/></a>"
      ]
    },
    {
      "cell_type": "code",
      "execution_count": 1,
      "metadata": {
        "id": "k3qqoN6hJH36"
      },
      "outputs": [],
      "source": [
        "import numpy as np\n",
        "x = np.array([1,2,3,4,5,6,7,8,9,10,11]) \n",
        "y = np.array([26235.8,26028.29,24036.37,25154.32,23658.92,23274.75,24573.29,22761.71,22039.55,21101.89,21294.94])"
      ]
    },
    {
      "cell_type": "code",
      "source": [
        "# Find Xdash \n",
        "x_dash = np.mean(x)"
      ],
      "metadata": {
        "id": "zjOfa76oLL8q"
      },
      "execution_count": 2,
      "outputs": []
    },
    {
      "cell_type": "code",
      "source": [
        "x_dash"
      ],
      "metadata": {
        "colab": {
          "base_uri": "https://localhost:8080/"
        },
        "id": "sYB9CQWeLmHx",
        "outputId": "81a059af-062f-4062-c8cd-28ed6bbe233e"
      },
      "execution_count": 3,
      "outputs": [
        {
          "output_type": "execute_result",
          "data": {
            "text/plain": [
              "6.0"
            ]
          },
          "metadata": {},
          "execution_count": 3
        }
      ]
    },
    {
      "cell_type": "code",
      "source": [
        "y_dash = np.mean(y)"
      ],
      "metadata": {
        "id": "tfrv7usvLrIF"
      },
      "execution_count": 4,
      "outputs": []
    },
    {
      "cell_type": "code",
      "source": [
        "P = (x-x_dash) * (y-y_dash)"
      ],
      "metadata": {
        "id": "Xo_nAA7kL735"
      },
      "execution_count": 5,
      "outputs": []
    },
    {
      "cell_type": "code",
      "source": [
        "num = sum(P)\n",
        "num"
      ],
      "metadata": {
        "colab": {
          "base_uri": "https://localhost:8080/"
        },
        "id": "mzgY159_MBPi",
        "outputId": "b8bdbbbe-7043-4a95-9312-44332ca228b5"
      },
      "execution_count": 6,
      "outputs": [
        {
          "output_type": "execute_result",
          "data": {
            "text/plain": [
              "-54271.21000000001"
            ]
          },
          "metadata": {},
          "execution_count": 6
        }
      ]
    },
    {
      "cell_type": "code",
      "source": [
        "Q = (x-x_dash)*(x-x_dash)\n",
        "den = sum(Q)"
      ],
      "metadata": {
        "id": "G4hRenJuMVEw"
      },
      "execution_count": 7,
      "outputs": []
    },
    {
      "cell_type": "code",
      "source": [
        "m= num/den\n",
        "m"
      ],
      "metadata": {
        "colab": {
          "base_uri": "https://localhost:8080/"
        },
        "id": "VxfPcpoNMWY5",
        "outputId": "5e191b95-454d-45bf-e995-ef197b29420f"
      },
      "execution_count": 8,
      "outputs": [
        {
          "output_type": "execute_result",
          "data": {
            "text/plain": [
              "-493.3746363636364"
            ]
          },
          "metadata": {},
          "execution_count": 8
        }
      ]
    },
    {
      "cell_type": "code",
      "source": [
        "c=y_dash - m* x_dash\n",
        "Ynew=m*x + c\n",
        "Ynew"
      ],
      "metadata": {
        "colab": {
          "base_uri": "https://localhost:8080/"
        },
        "id": "QgnGXWv0MZj6",
        "outputId": "0d3311dd-ea60-47f8-f303-5d85d94602ed"
      },
      "execution_count": 9,
      "outputs": [
        {
          "output_type": "execute_result",
          "data": {
            "text/plain": [
              "array([26117.76681818, 25624.39218182, 25131.01754545, 24637.64290909,\n",
              "       24144.26827273, 23650.89363636, 23157.519     , 22664.14436364,\n",
              "       22170.76972727, 21677.39509091, 21184.02045455])"
            ]
          },
          "metadata": {},
          "execution_count": 9
        }
      ]
    },
    {
      "cell_type": "code",
      "source": [
        "import matplotlib.pyplot as plt\n",
        "plt.scatter(x,y)"
      ],
      "metadata": {
        "colab": {
          "base_uri": "https://localhost:8080/",
          "height": 282
        },
        "id": "4tYU1HrrMhAp",
        "outputId": "0a2b6930-2150-4163-b477-4956054d7c90"
      },
      "execution_count": 10,
      "outputs": [
        {
          "output_type": "execute_result",
          "data": {
            "text/plain": [
              "<matplotlib.collections.PathCollection at 0x7ffa116a8a90>"
            ]
          },
          "metadata": {},
          "execution_count": 10
        },
        {
          "output_type": "display_data",
          "data": {
            "text/plain": [
              "<Figure size 432x288 with 1 Axes>"
            ],
            "image/png": "[encoded data removed]"
          },
          "metadata": {
            "needs_background": "light"
          }
        }
      ]
    },
    {
      "cell_type": "code",
      "source": [
        "plt.scatter(x,y)\n",
        "plt.plot(x,Ynew)"
      ],
      "metadata": {
        "colab": {
          "base_uri": "https://localhost:8080/",
          "height": 282
        },
        "id": "gdmoQPyLMqjR",
        "outputId": "7337acc1-e717-489e-c1c8-087c5f134838"
      },
      "execution_count": 11,
      "outputs": [
        {
          "output_type": "execute_result",
          "data": {
            "text/plain": [
              "[<matplotlib.lines.Line2D at 0x7ffa11190710>]"
            ]
          },
          "metadata": {},
          "execution_count": 11
        },
        {
          "output_type": "display_data",
          "data": {
            "text/plain": [
              "<Figure size 432x288 with 1 Axes>"
            ],
            "image/png": "[encoded data removed]"
          },
          "metadata": {
            "needs_background": "light"
          }
        }
      ]
    },
    {
      "cell_type": "code",
      "source": [
        ""
      ],
      "metadata": {
        "id": "X20-hXrwMxGQ"
      },
      "execution_count": null,
      "outputs": []
    }
  ]
}